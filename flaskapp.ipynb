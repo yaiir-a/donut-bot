{
 "cells": [
  {
   "cell_type": "code",
   "execution_count": 34,
   "metadata": {},
   "outputs": [],
   "source": [
    "import requests as r\n",
    "\n",
    "url = 'http://127.0.0.1:5000/donut'"
   ]
  },
  {
   "cell_type": "code",
   "execution_count": 39,
   "metadata": {},
   "outputs": [
    {
     "data": {
      "text/plain": [
       "[['haha4', 10],\n",
       " ['haha1', 6],\n",
       " ['haha', 6],\n",
       " ['haha3', 4],\n",
       " ['hellothere', 2],\n",
       " ['yahia', 2],\n",
       " ['haha2', 1],\n",
       " ['foo', 1],\n",
       " ['dave', 1],\n",
       " ['henry', 1]]"
      ]
     },
     "execution_count": 39,
     "metadata": {},
     "output_type": "execute_result"
    }
   ],
   "source": [
    "r.get(url).json()"
   ]
  },
  {
   "cell_type": "code",
   "execution_count": 38,
   "metadata": {},
   "outputs": [
    {
     "data": {
      "text/plain": [
       "{'records': [{'createdTime': '2019-09-20T18:19:28.000Z',\n",
       "   'fields': {'created': '2019-09-20T18:19:28.000Z', 'donut': 'hellothere'},\n",
       "   'id': 'recqJsjjLr0VCNG4T'}]}"
      ]
     },
     "execution_count": 38,
     "metadata": {},
     "output_type": "execute_result"
    }
   ],
   "source": [
    "payload = {'donut': 'hellothere'}\n",
    "r.post(url, json=payload).json()"
   ]
  },
  {
   "cell_type": "code",
   "execution_count": null,
   "metadata": {},
   "outputs": [],
   "source": []
  }
 ],
 "metadata": {
  "kernelspec": {
   "display_name": "Python 3",
   "language": "python",
   "name": "python3"
  },
  "language_info": {
   "codemirror_mode": {
    "name": "ipython",
    "version": 3
   },
   "file_extension": ".py",
   "mimetype": "text/x-python",
   "name": "python",
   "nbconvert_exporter": "python",
   "pygments_lexer": "ipython3",
   "version": "3.7.3"
  }
 },
 "nbformat": 4,
 "nbformat_minor": 2
}
